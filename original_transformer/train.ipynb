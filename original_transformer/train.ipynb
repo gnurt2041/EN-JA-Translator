{
 "cells": [
  {
   "cell_type": "code",
   "execution_count": 1,
   "metadata": {},
   "outputs": [
    {
     "name": "stdout",
     "output_type": "stream",
     "text": [
      "Train size: 20079 \n",
      " Test size: 2232\n",
      "Max length of source sentence: 114\n",
      "Max length of target sentence: 50\n"
     ]
    },
    {
     "data": {
      "text/plain": [
       "(<torch.utils.data.dataloader.DataLoader at 0x7fc61a5a5e70>,\n",
       " <torch.utils.data.dataloader.DataLoader at 0x7fc61a2ea110>,\n",
       " <tokenizers.Tokenizer at 0x558e636c41a0>,\n",
       " <tokenizers.Tokenizer at 0x558e63d17f00>)"
      ]
     },
     "execution_count": 1,
     "metadata": {},
     "output_type": "execute_result"
    }
   ],
   "source": [
    "from config import get_config\n",
    "cfg = get_config()\n",
    "cfg['datasource'] = 'iwslt2017'\n",
    "cfg['lang_src'] = 'en'\n",
    "cfg['lang_tgt'] = 'ja'\n",
    "cfg['batch_size'] = 6\n",
    "cfg['preload'] = None\n",
    "cfg['num_epochs'] = 30\n",
    "\n",
    "from train import train_model, get_ds\n",
    "get_ds(cfg)\n",
    "# train_model(cfg)"
   ]
  }
 ],
 "metadata": {
  "kernelspec": {
   "display_name": "Python 3",
   "language": "python",
   "name": "python3"
  },
  "language_info": {
   "codemirror_mode": {
    "name": "ipython",
    "version": 3
   },
   "file_extension": ".py",
   "mimetype": "text/x-python",
   "name": "python",
   "nbconvert_exporter": "python",
   "pygments_lexer": "ipython3",
   "version": "3.10.12"
  }
 },
 "nbformat": 4,
 "nbformat_minor": 2
}
